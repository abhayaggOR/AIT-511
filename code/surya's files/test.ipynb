{
 "cells": [
  {
   "cell_type": "code",
   "execution_count": 7,
   "id": "bdae0ac6",
   "metadata": {},
   "outputs": [
    {
     "name": "stdout",
     "output_type": "stream",
     "text": [
      "✅ Kaggle_test.csv created with 5225 rows (unique to test).\n"
     ]
    }
   ],
   "source": [
    "import pandas as pd\n",
    "\n",
    "# Load datasets\n",
    "train = pd.read_csv(\"train.csv\")\n",
    "test = pd.read_csv(\"test.csv\")\n",
    "\n",
    "# Drop specified columns\n",
    "# train_clean = train.drop(columns=['id'])\n",
    "# test_clean = test.drop(columns=['NObeyesdad'])\n",
    "\n",
    "# Find rows present in test but not in train\n",
    "diff = test.merge(train, how='outer', indicator=True)\n",
    "kaggle_test = diff.query('_merge == \"left_only\"').drop(columns='_merge')\n",
    "\n",
    "# Save the result\n",
    "kaggle_test.to_csv(\"Kaggle_test.csv\", index=False)\n",
    "\n",
    "print(f\"✅ Kaggle_test.csv created with {len(kaggle_test)} rows (unique to test).\")\n"
   ]
  },
  {
   "cell_type": "code",
   "execution_count": null,
   "id": "6c05b6a6",
   "metadata": {},
   "outputs": [],
   "source": []
  },
  {
   "cell_type": "code",
   "execution_count": null,
   "id": "1f57995a",
   "metadata": {},
   "outputs": [],
   "source": []
  }
 ],
 "metadata": {
  "kernelspec": {
   "display_name": "Python 3",
   "language": "python",
   "name": "python3"
  },
  "language_info": {
   "codemirror_mode": {
    "name": "ipython",
    "version": 3
   },
   "file_extension": ".py",
   "mimetype": "text/x-python",
   "name": "python",
   "nbconvert_exporter": "python",
   "pygments_lexer": "ipython3",
   "version": "3.10.5"
  }
 },
 "nbformat": 4,
 "nbformat_minor": 5
}
